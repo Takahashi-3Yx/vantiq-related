{
  "cells": [
    {
      "attachments": {},
      "cell_type": "markdown",
      "metadata": {
        "colab_type": "text",
        "id": "view-in-github"
      },
      "source": [
        "<a href=\"https://colab.research.google.com/github/fujitake/vantiq-related/blob/main/vantiq-google-colab/docs/jp/box-sorter_data-generator_beginner.ipynb\" target=\"_parent\"><img src=\"https://colab.research.google.com/assets/colab-badge.svg\" alt=\"Open In Colab\"/></a>"
      ]
    },
    {
      "attachments": {},
      "cell_type": "markdown",
      "metadata": {
        "id": "okmzYlHmq-9B"
      },
      "source": [
        "# Vantiq 荷物仕分け (Box Sorter) アプリケーション用データジェネレータ（Beginner）\n",
        "Vantiq 荷物仕分けアプリにダミーデータを HTTP POST する Python スクリプトになります。\n",
        "\n",
        "## 設定方法\n",
        "利用する際は事前にいくつか設定が必要になります。  \n",
        "また、事前に Google アカウントへのログインが必要になります。  \n",
        "\n",
        "### 設定情報の設定方法\n",
        "- 設定情報にデータ送信先となる Vantiq の `url` と `AccessToken` を設定します。\n",
        "    - `url` は、Vantiq で作成した `Vantiq Topic名` を含めて入力してください。\n",
        "    - `AccessToken` は、 **Vantiq IDE のメニュー** から **管理(Administer)** -> **Advanced** -> **Access Tokens** より生成します。\n",
        "\n",
        "## データジェネレータの実行手順\n",
        "1. 初回実行時またはデータジェネレータの実行時にエラーが出る場合は、ライブラリのインストールを行います。  \n",
        "   `# ライブラリのインストール` の左側の `再生ボタン` をクリックします。  \n",
        "1. 設定情報を反映させるために `# 設定情報` の左側の `再生ボタン` をクリックします。  \n",
        "1. ダミーデータの送信を行うために `# データジェネレータ本体` の左側の `再生ボタン` クリックします。\n"
      ]
    },
    {
      "cell_type": "code",
      "execution_count": null,
      "metadata": {
        "id": "724MzUOGeSGZ"
      },
      "outputs": [],
      "source": [
        "# ライブラリのインストール\n",
        "!pip install schedule"
      ]
    },
    {
      "cell_type": "code",
      "execution_count": null,
      "metadata": {
        "id": "4VR-Yr6Uq9k7"
      },
      "outputs": [],
      "source": [
        "# 設定情報\n",
        "url = \"https://{VantiqのURL(FQDN)}/api/v1/resources/topics/{Topic名}\"\n",
        "accesstoken = \"{Vantiqのアクセストークン}\""
      ]
    },
    {
      "cell_type": "code",
      "execution_count": null,
      "metadata": {
        "id": "_Hl2OLPUrUe7"
      },
      "outputs": [],
      "source": [
        "# データジェネレータ本体\n",
        "import requests\n",
        "import json\n",
        "import random\n",
        "import time\n",
        "from typing import Final\n",
        "import schedule\n",
        "\n",
        "\n",
        "# ダミーデータ\n",
        "dummy_data = [\n",
        "    {\n",
        "        \"code\": \"14961234567890\",\n",
        "        \"name\": \"お茶 24本\"\n",
        "    }\n",
        "    , {\n",
        "        \"code\": \"14961234567892\",\n",
        "        \"name\": \"化粧水 36本\"\n",
        "    }\n",
        "    , {\n",
        "        \"code\": \"14961234567893\",\n",
        "        \"name\": \"ワイン 12本\"\n",
        "    }\n",
        "]\n",
        "\n",
        "# アクセストークン\n",
        "authorization = \"Bearer\" + \" \" + accesstoken\n",
        "\n",
        "# HTTP POST\n",
        "def data_post():\n",
        "    headers = {\n",
        "      'Content-Type': 'application/json',\n",
        "      'Authorization': authorization\n",
        "    }\n",
        "    payload = json.dumps(dummy_data[random.randint(0, 2)])\n",
        "    response = requests.request(\"POST\", url, headers=headers, data=payload)\n",
        "    print(response.text)\n",
        "\n",
        "# 定期実行\n",
        "schedule.every(2).seconds.do(data_post)\n",
        "while True:\n",
        "    schedule.run_pending()\n",
        "    time.sleep(1)\n"
      ]
    }
  ],
  "metadata": {
    "colab": {
      "include_colab_link": true,
      "provenance": []
    },
    "kernelspec": {
      "display_name": "Python 3",
      "name": "python3"
    },
    "language_info": {
      "name": "python"
    }
  },
  "nbformat": 4,
  "nbformat_minor": 0
}
