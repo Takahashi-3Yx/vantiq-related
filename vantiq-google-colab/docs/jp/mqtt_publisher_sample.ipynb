{
  "cells": [
    {
      "attachments": {},
      "cell_type": "markdown",
      "metadata": {
        "colab_type": "text",
        "id": "view-in-github"
      },
      "source": [
        "<a href=\"https://colab.research.google.com/github/fujitake/vantiq-related/blob/main/vantiq-google-colab/docs/jp/mqtt_publisher_sample.ipynb\" target=\"_parent\"><img src=\"https://colab.research.google.com/assets/colab-badge.svg\" alt=\"Open In Colab\"/></a>"
      ]
    },
    {
      "attachments": {},
      "cell_type": "markdown",
      "metadata": {
        "id": "okmzYlHmq-9B"
      },
      "source": [
        "# MQTT Publisher Sample\n",
        "MQTTブローカーへメッセージのパブリッシュ（送信）を行うサンプルスクリプトになります。  \n",
        "設定したメッセージをランダムでパブリッシュします。  \n",
        "\n",
        "## 設定方法\n",
        "利用する際は事前にいくつか設定が必要になります。  \n",
        "また、事前に Google アカウントへのログインが必要になります。  \n",
        "\n",
        "### MQTTブローカーの設定\n",
        "`# MQTTブローカー設定` に必要な情報を入力します。  \n",
        "- `broker`：ホスト名を入力します。\n",
        "- `port`：MQTTのポート番号を入力します。\n",
        "- `topic`：トピック名を入力します。\n",
        "- `client_id`：クライアントIDは、特段の事情がない限り変更不要です。\n",
        "- `username`：ユーザー名を設定しない場合は、設定不要です。\n",
        "- `password`：パスワードを設定しない場合は、設定不要です。\n",
        "\n",
        "### 送信データの設定\n",
        "`# 送信データ設定` に必要な情報を入力します。\n",
        "- `interval`：メッセージの送信間隔を秒単位で指定します。（送信頻度を変更したい場合以外は変更不要）\n",
        "- `message`：パブリッシュしたいメッセージをオブジェクトの配列で入力します。\n",
        "\n",
        "## メッセージの送信方法\n",
        "1. 初回実行時または実行時にエラーが出る場合は、ライブラリのインストールを行います。  \n",
        "   1. `# ライブラリのインストール` の左側の `再生ボタン` をクリックします。  \n",
        "1. ライブラリのインポートを行います。  \n",
        "   1. `# ライブラリのインポート` の左側の `再生ボタン` をクリックします。  \n",
        "1. 設定情報を反映させます。  \n",
        "   1. `# MQTTブローカー設定` の左側の `再生ボタン` をクリックします。\n",
        "   1. `# 送信データ設定` の左側の `再生ボタン` をクリックします。  \n",
        "1. メッセージの送信を行います。  \n",
        "   1. `# MQTT Publisher 本体` の左側の `再生ボタン` をクリックします。\n",
        "\n",
        "## メッセージ送信の停止方法\n",
        "1. `# MQTT Publisher 本体` の左側の `停止ボタン` をクリックします。"
      ]
    },
    {
      "cell_type": "code",
      "execution_count": null,
      "metadata": {
        "id": "724MzUOGeSGZ"
      },
      "outputs": [],
      "source": [
        "# ライブラリのインストール\n",
        "!pip install paho-mqtt"
      ]
    },
    {
      "cell_type": "code",
      "execution_count": null,
      "metadata": {
        "id": "QLjt_6s0urlO"
      },
      "outputs": [],
      "source": [
        "# ライブラリのインポート\n",
        "import time\n",
        "import json\n",
        "import random\n",
        "from datetime import datetime as dt\n",
        "from paho.mqtt import client as mqtt_client"
      ]
    },
    {
      "cell_type": "code",
      "execution_count": null,
      "metadata": {
        "id": "4VR-Yr6Uq9k7"
      },
      "outputs": [],
      "source": [
        "# MQTTブローカー設定\n",
        "mqtt_config = {\n",
        "    'broker': 'broker.hivemq.com'\n",
        "    , 'port': 1883\n",
        "    , 'topic': '/topic_name'\n",
        "    , 'client_id': f'python-mqtt-{random.randint(0, 100)}'\n",
        "    , 'username': ''\n",
        "    , 'password': ''\n",
        "}"
      ]
    },
    {
      "cell_type": "code",
      "execution_count": null,
      "metadata": {
        "id": "lN0Z_NX2tMIU"
      },
      "outputs": [],
      "source": [
        "# 送信データ設定\n",
        "publish_config = {\n",
        "    'interval': 2\n",
        "    , 'message': [\n",
        "        {\n",
        "            'name': 'シナモン'\n",
        "            , 'birthday': '3月6日'\n",
        "        }\n",
        "        , {\n",
        "            'name': 'カプチーノ'\n",
        "            , 'birthday': '6月27日'\n",
        "        }\n",
        "        , {\n",
        "            'name': 'モカ'\n",
        "            , 'birthday': '2月20日'\n",
        "        }\n",
        "        , {\n",
        "            'name': 'シフォン'\n",
        "            , 'birthday': '1月14日'\n",
        "        }\n",
        "        , {\n",
        "            'name': 'エスプレッソ'\n",
        "            , 'birthday': '12月4日'\n",
        "        }\n",
        "        , {\n",
        "            'name': 'みるく'\n",
        "            , 'birthday': '2月4日'\n",
        "        }\n",
        "    ]\n",
        "}"
      ]
    },
    {
      "cell_type": "code",
      "execution_count": null,
      "metadata": {
        "id": "_Hl2OLPUrUe7"
      },
      "outputs": [],
      "source": [
        "# MQTT Publisher 本体\n",
        "def connect_mqtt():\n",
        "    def on_connect(client, userdata, flags, rc):\n",
        "        if rc == 0:\n",
        "            print(\"Connected to MQTT Broker!\\n\")\n",
        "        else:\n",
        "            print(\"Failed to connect, return code %d\\n\", rc)\n",
        "\n",
        "    client = mqtt_client.Client(mqtt_config['client_id'])\n",
        "    client.username_pw_set(mqtt_config['username'], mqtt_config['password'])\n",
        "    client.on_connect = on_connect\n",
        "    client.connect(mqtt_config['broker'], mqtt_config['port'])\n",
        "    return client\n",
        "\n",
        "\n",
        "def publish(client):\n",
        "    msg_length = len(publish_config['message'])\n",
        "    while True:\n",
        "        time.sleep(publish_config['interval'])\n",
        "        msg = publish_config['message'][random.randint(0, msg_length - 1)]\n",
        "        msg['time'] = dt.now().strftime('%Y-%m-%d %H:%M:%S')\n",
        "        result = client.publish(mqtt_config['topic'], json.dumps(msg, ensure_ascii=False, indent=4))\n",
        "        status = result[0]\n",
        "        if status == 0:\n",
        "            print(f\"Topic: {mqtt_config['topic']}\")\n",
        "            print(f\"{msg}\")\n",
        "            print(f\"Published Time: {msg['time']}\")\n",
        "            print()\n",
        "        else:\n",
        "            print(f\"Failed to send message to topic {mqtt_config['topic']}\")\n",
        "\n",
        "\n",
        "def run():\n",
        "    client = connect_mqtt()\n",
        "    client.loop_start()\n",
        "    publish(client)\n",
        "\n",
        "\n",
        "if __name__ == '__main__':\n",
        "    run()\n"
      ]
    }
  ],
  "metadata": {
    "colab": {
      "include_colab_link": true,
      "provenance": []
    },
    "kernelspec": {
      "display_name": "Python 3",
      "name": "python3"
    },
    "language_info": {
      "name": "python"
    }
  },
  "nbformat": 4,
  "nbformat_minor": 0
}
