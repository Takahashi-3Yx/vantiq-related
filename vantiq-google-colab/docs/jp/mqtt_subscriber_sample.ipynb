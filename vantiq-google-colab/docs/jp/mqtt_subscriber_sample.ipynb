{
  "cells": [
    {
      "attachments": {},
      "cell_type": "markdown",
      "metadata": {
        "colab_type": "text",
        "id": "view-in-github"
      },
      "source": [
        "<a href=\"https://colab.research.google.com/github/fujitake/vantiq-related/blob/main/vantiq-google-colab/docs/jp/mqtt_subscriber_sample.ipynb\" target=\"_parent\"><img src=\"https://colab.research.google.com/assets/colab-badge.svg\" alt=\"Open In Colab\"/></a>"
      ]
    },
    {
      "attachments": {},
      "cell_type": "markdown",
      "metadata": {
        "id": "okmzYlHmq-9B"
      },
      "source": [
        "# MQTT Subscriber Sample\n",
        "MQTTブローカーからメッセージのサブスクライブ（受信）を行うサンプルスクリプトになります。  \n",
        "\n",
        "## 設定方法\n",
        "利用する際は事前にいくつか設定が必要になります。  \n",
        "また、事前に Google アカウントへのログインが必要になります。  \n",
        "\n",
        "### MQTTブローカーの設定\n",
        "`# MQTTブローカー設定` に必要な情報を入力します。  \n",
        "- `broker`：ホスト名を入力します。\n",
        "- `port`：MQTTのポート番号を入力します。\n",
        "- `topic`：トピック名を入力します。\n",
        "- `client_id`：クライアントIDは、特段の事情がない限り変更不要です。\n",
        "- `username`：ユーザー名を設定しない場合は、設定不要です。\n",
        "- `password`：パスワードを設定しない場合は、設定不要です。\n",
        "\n",
        "## メッセージの受信方法\n",
        "1. 初回実行時または実行時にエラーが出る場合は、ライブラリのインストールを行います。  \n",
        "   1. `# ライブラリのインストール` の左側の `再生ボタン` をクリックします。  \n",
        "1. ライブラリのインポートを行います。  \n",
        "   1. `# ライブラリのインポート` の左側の `再生ボタン` をクリックします。  \n",
        "1. 設定情報を反映させます。  \n",
        "   1. `# MQTTブローカー設定` の左側の `再生ボタン` をクリックします。\n",
        "1. メッセージの受信を行います。  \n",
        "   1. `# MQTT Subscriber 本体` の左側の `再生ボタン` をクリックします。\n",
        "\n",
        "## メッセージ受信の停止方法\n",
        "1. `# MQTT Subscriber 本体` の左側の `停止ボタン` をクリックします。"
      ]
    },
    {
      "cell_type": "code",
      "execution_count": null,
      "metadata": {
        "id": "724MzUOGeSGZ"
      },
      "outputs": [],
      "source": [
        "# ライブラリのインストール\n",
        "!pip install paho-mqtt"
      ]
    },
    {
      "cell_type": "code",
      "execution_count": null,
      "metadata": {
        "id": "QLjt_6s0urlO"
      },
      "outputs": [],
      "source": [
        "# ライブラリのインポート\n",
        "import random\n",
        "from datetime import datetime as dt\n",
        "from paho.mqtt import client as mqtt_client"
      ]
    },
    {
      "cell_type": "code",
      "execution_count": null,
      "metadata": {
        "id": "4VR-Yr6Uq9k7"
      },
      "outputs": [],
      "source": [
        "# MQTTブローカー設定\n",
        "mqtt_config = {\n",
        "    'broker': 'broker.hivemq.com'\n",
        "    , 'port': 1883\n",
        "    , 'topic': '/topic_name'\n",
        "    , 'client_id': f'python-mqtt-{random.randint(0, 100)}'\n",
        "    , 'username': ''\n",
        "    , 'password': ''\n",
        "}"
      ]
    },
    {
      "cell_type": "code",
      "execution_count": null,
      "metadata": {
        "id": "_Hl2OLPUrUe7"
      },
      "outputs": [],
      "source": [
        "# MQTT Subscriber 本体\n",
        "def connect_mqtt() -> mqtt_client:\n",
        "    def on_connect(client, userdata, flags, rc):\n",
        "        if rc == 0:\n",
        "            print(\"Connected to MQTT Broker!\\n\")\n",
        "        else:\n",
        "            print(\"Failed to connect, return code %d\\n\", rc)\n",
        "\n",
        "    client = mqtt_client.Client(mqtt_config['client_id'])\n",
        "    client.username_pw_set(mqtt_config['username'], mqtt_config['password'])\n",
        "    client.on_connect = on_connect\n",
        "    client.connect(mqtt_config['broker'], mqtt_config['port'])\n",
        "    return client\n",
        "\n",
        "\n",
        "def subscribe(client: mqtt_client):\n",
        "    def on_message(client, userdata, msg):\n",
        "        print(f\"Topic: {msg.topic}\")\n",
        "        print(f\"{msg.payload.decode()}\")\n",
        "        print(f\"Subscribed Time: {dt.now()}\")\n",
        "        print()\n",
        "\n",
        "    client.subscribe(mqtt_config['topic'])\n",
        "    client.on_message = on_message\n",
        "\n",
        "\n",
        "def run():\n",
        "    client = connect_mqtt()\n",
        "    subscribe(client)\n",
        "    client.loop_forever()\n",
        "\n",
        "\n",
        "if __name__ == '__main__':\n",
        "    run()\n"
      ]
    }
  ],
  "metadata": {
    "colab": {
      "include_colab_link": true,
      "provenance": []
    },
    "kernelspec": {
      "display_name": "Python 3",
      "name": "python3"
    },
    "language_info": {
      "name": "python"
    }
  },
  "nbformat": 4,
  "nbformat_minor": 0
}
